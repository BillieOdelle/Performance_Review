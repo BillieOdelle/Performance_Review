{
 "cells": [
  {
   "cell_type": "code",
   "execution_count": 16,
   "metadata": {},
   "outputs": [],
   "source": [
    "import pandas as pd\n",
    "import matplotlib.pyplot as plt"
   ]
  },
  {
   "cell_type": "code",
   "execution_count": null,
   "metadata": {},
   "outputs": [],
   "source": [
    "#read in csv file sc_req_item\n",
    "item_pd = pd.read_csv('csv_resources/sc_req_item.csv')\n",
    "item_pd.head()"
   ]
  },
  {
   "cell_type": "code",
   "execution_count": null,
   "metadata": {},
   "outputs": [],
   "source": [
    "plt.title(\"Total Request by Assignment Group\")\n",
    "plt.xlabel (\"Total\").count\n",
    "plt.ylabel(\"Assignment Group\")\n",
    "\n",
    "plt.bar()"
   ]
  },
  {
   "cell_type": "code",
   "execution_count": null,
   "metadata": {},
   "outputs": [],
   "source": [
    "#read in csv file sc_task\n",
    "task_pd = pd.read_csv('csv_resources/sc_task.csv')\n",
    "print(task_pd)"
   ]
  },
  {
   "cell_type": "code",
   "execution_count": null,
   "metadata": {},
   "outputs": [],
   "source": [
    "#read in csv file task_sla\n",
    "task_sla_pd = pd.read_csv('csv_resources/task_sla.csv')\n",
    "print(task_sla_pd)"
   ]
  },
  {
   "cell_type": "code",
   "execution_count": 33,
   "metadata": {},
   "outputs": [
    {
     "data": {
      "text/plain": [
       "<bound method Series.count of 0       SR_Req_0916399\n",
       "1       SR_Req_0916643\n",
       "2       SR_Req_0916661\n",
       "3       SR_Req_0916781\n",
       "4       SR_Req_0916916\n",
       "             ...      \n",
       "2051    SR_Req_1191784\n",
       "2052    SR_Req_1191803\n",
       "2053    SR_Req_1191866\n",
       "2054    SR_Req_1191867\n",
       "2055    SR_Req_1191998\n",
       "Name: number, Length: 2056, dtype: object>"
      ]
     },
     "execution_count": 33,
     "metadata": {},
     "output_type": "execute_result"
    }
   ],
   "source": [
    "item_pd[\"number\"].count"
   ]
  },
  {
   "cell_type": "code",
   "execution_count": 45,
   "metadata": {},
   "outputs": [
    {
     "name": "stdout",
     "output_type": "stream",
     "text": [
      "1066\n",
      "1066\n"
     ]
    }
   ],
   "source": [
    "count_true = item_pd[item_pd[\"csr_triggered\"] == True][\"csr_triggered\"].count()\n",
    "print(count_true)\n",
    "count_false = item_pd[item_pd[\"csr_triggered\"] == False][\"csr_triggered\"].count()\n",
    "print(count_true)"
   ]
  },
  {
   "cell_type": "code",
   "execution_count": 31,
   "metadata": {},
   "outputs": [
    {
     "name": "stdout",
     "output_type": "stream",
     "text": [
      "<class 'pandas.core.frame.DataFrame'>\n",
      "RangeIndex: 2056 entries, 0 to 2055\n",
      "Data columns (total 14 columns):\n",
      " #   Column                    Non-Null Count  Dtype  \n",
      "---  ------                    --------------  -----  \n",
      " 0   sys_created_on            2056 non-null   object \n",
      " 1   closed_at                 2003 non-null   object \n",
      " 2   quantity                  2056 non-null   int64  \n",
      " 3   csr_triggered             2056 non-null   bool   \n",
      " 4   ohs_triggered             2056 non-null   bool   \n",
      " 5   sub_task                  2056 non-null   object \n",
      " 6   SubTask_Number            1227 non-null   object \n",
      " 7   business_duration         2002 non-null   float64\n",
      " 8   state                     2056 non-null   object \n",
      " 9   sys_updated_on            2056 non-null   object \n",
      " 10  opened_at                 2056 non-null   object \n",
      " 11  assignment_group          2055 non-null   object \n",
      " 12  number                    2056 non-null   object \n",
      " 13  Working_Turn_Around_Days  2003 non-null   float64\n",
      "dtypes: bool(2), float64(2), int64(1), object(9)\n",
      "memory usage: 196.9+ KB\n"
     ]
    }
   ],
   "source": [
    "item_pd.info()"
   ]
  }
 ],
 "metadata": {
  "kernelspec": {
   "display_name": "base",
   "language": "python",
   "name": "python3"
  },
  "language_info": {
   "codemirror_mode": {
    "name": "ipython",
    "version": 3
   },
   "file_extension": ".py",
   "mimetype": "text/x-python",
   "name": "python",
   "nbconvert_exporter": "python",
   "pygments_lexer": "ipython3",
   "version": "3.9.13"
  }
 },
 "nbformat": 4,
 "nbformat_minor": 2
}
